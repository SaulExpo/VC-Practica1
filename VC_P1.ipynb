{
 "cells": [
  {
   "cell_type": "markdown",
   "metadata": {},
   "source": [
    "Paquetes necesarios"
   ]
  },
  {
   "cell_type": "code",
   "execution_count": 1,
   "metadata": {},
   "outputs": [],
   "source": [
    "import cv2  \n",
    "import numpy as np\n",
    "import matplotlib.pyplot as plt"
   ]
  },
  {
   "cell_type": "markdown",
   "metadata": {},
   "source": [
    "Inicializaciones"
   ]
  },
  {
   "cell_type": "code",
   "execution_count": 2,
   "metadata": {},
   "outputs": [],
   "source": [
    "#Dimensiones de la imagen a crear\n",
    "ancho = 800\n",
    "alto = 800"
   ]
  },
  {
   "cell_type": "markdown",
   "metadata": {},
   "source": [
    "TAREA: Crea una imagen, p.e. de 800x800 píxeles, con la textura del tablero de ajedrez"
   ]
  },
  {
   "cell_type": "code",
   "execution_count": 3,
   "metadata": {},
   "outputs": [
    {
     "data": {
      "image/png": "[encoded data removed]",
      "text/plain": [
       "<Figure size 640x480 with 1 Axes>"
      ]
     },
     "metadata": {},
     "output_type": "display_data"
    }
   ],
   "source": [
    "gris_img = np.zeros((alto,ancho,1), dtype = np.uint8)\n",
    "tamaño = 80 # Establecer el tamaño de las casillas\n",
    "x = 0 # Coordenadas x\n",
    "y = 0 # Coordenadas y\n",
    "while True:\n",
    "    gris_img[y:y+tamaño,x:x+tamaño] = 255\n",
    "    x+=tamaño*2\n",
    "    if x >= 800:\n",
    "        y +=tamaño\n",
    "        if y % (tamaño*2) == 0:\n",
    "            x=0\n",
    "        else:\n",
    "            x = tamaño\n",
    "    if y>= 800:\n",
    "        break\n",
    "\n",
    "plt.imshow(gris_img, cmap='gray') #Te animo a probar a eliminar la especificación del mapa de color\n",
    "plt.show()"
   ]
  },
  {
   "cell_type": "markdown",
   "metadata": {},
   "source": [
    "TAREA: Crear una imagen estilo Mondrian (un ejemplo https://www3.gobiernodecanarias.org/medusa/ecoescuela/sa/2017/04/17/descubriendo-a-mondrian/ ) con las funciones de dibujo de OpenCV"
   ]
  },
  {
   "cell_type": "code",
   "execution_count": 4,
   "metadata": {},
   "outputs": [
    {
     "data": {
      "image/png": "[encoded data removed]",
      "text/plain": [
       "<Figure size 640x480 with 1 Axes>"
      ]
     },
     "metadata": {},
     "output_type": "display_data"
    },
    {
     "data": {
      "text/plain": [
       "True"
      ]
     },
     "execution_count": 4,
     "metadata": {},
     "output_type": "execute_result"
    }
   ],
   "source": [
    "#Crea una imagen con tres planos\n",
    "color_img = np.zeros((alto,ancho,3), dtype = np.uint8)\n",
    "#Fondo blanco\n",
    "color_img[:,:,0] = 255 \n",
    "color_img[:,:,1] = 255 \n",
    "color_img[:,:,2] = 255 \n",
    "\n",
    "#Cuadrados amarillos\n",
    "cv2.rectangle(color_img,(110,0),(200,200),(255,255,0),-3)\n",
    "cv2.rectangle(color_img,(400,0),(620,200),(255,255,0),-3)\n",
    "cv2.rectangle(color_img,(200,450),(400,620),(255,255,0),-3)\n",
    "\n",
    "#Cuadrados rojos\n",
    "cv2.rectangle(color_img,(110,200),(200,450),(255,0,0),-3)\n",
    "cv2.rectangle(color_img,(110,620),(400,800),(255,0,0),-3)\n",
    "cv2.rectangle(color_img,(400,450),(620,620),(255,0,0),-3)\n",
    "\n",
    "#Cuadrados azules\n",
    "cv2.rectangle(color_img,(110,200),(200,450),(255,0,0),-3)\n",
    "cv2.rectangle(color_img,(400,200),(620,450),(0,0,255),-3)\n",
    "cv2.rectangle(color_img,(200,0),(400,200),(0,0,255),-3)\n",
    "\n",
    "#Lineas verticales\n",
    "cv2.line(color_img,(int(ancho/4),0),(int(ancho/4),alto-190),(0,0,0),20)\n",
    "cv2.line(color_img,(int(ancho/7),0),(int(ancho/7),alto),(0,0,0),20)\n",
    "cv2.line(color_img,(int(ancho/1.3),0),(int(ancho/1.3),alto),(0,0,0),20)\n",
    "cv2.line(color_img,(int(ancho/2),0),(int(ancho/2),alto),(0,0,0),20)\n",
    "cv2.line(color_img,(int(ancho/1.3),0),(int(ancho/1.3),alto),(0,0,0),20)\n",
    "\n",
    "#Lineas horizontales\n",
    "cv2.line(color_img,(ancho,int(alto/4)),(0,int(alto/4)),(0,0,0),20)\n",
    "cv2.line(color_img,(ancho-190,int(alto/1.8)),(0,int(alto/1.8)),(0,0,0),20)\n",
    "cv2.line(color_img,(ancho,int(alto/1.3)),(120,int(alto/1.3)),(0,0,0),20)\n",
    "\n",
    "\n",
    "plt.imshow(color_img) \n",
    "plt.show()\n",
    "\n",
    "#Salva la imagen resultante a disco\n",
    "cv2.imwrite('imagen.jpg', color_img)"
   ]
  },
  {
   "cell_type": "markdown",
   "metadata": {},
   "source": [
    "TAREA: Modifica de forma libre los valores de un plano de la imagen"
   ]
  },
  {
   "cell_type": "code",
   "execution_count": 5,
   "metadata": {},
   "outputs": [],
   "source": [
    "# Abrir cámara en Windows\n",
    "vid = cv2.VideoCapture(0, cv2.CAP_DSHOW)\n",
    "\n",
    "while True:\n",
    "    ret, frame = vid.read()\n",
    "    if not ret:\n",
    "        break\n",
    "\n",
    "    h, w, _ = frame.shape\n",
    "\n",
    "\n",
    "    b = frame[:,:,0]\n",
    "    g = frame[:,:,1]\n",
    "    r = frame[:,:,2]\n",
    "\n",
    "    # Convertir cada canal a 3D para poder mostrarlo en color falso\n",
    "    b_img = cv2.merge([b, r, r])\n",
    "    g_img = cv2.merge([g, g, g])\n",
    "    r_img = cv2.merge([r, r, r])\n",
    "\n",
    "    # Concatenar en horizontal\n",
    "    collage = np.hstack((r_img, g_img, b_img))\n",
    "\n",
    "    # Redimensionar para que quepa en pantalla\n",
    "\n",
    "    cv2.imshow('RGB channels', collage)\n",
    "\n",
    "    # ESC para salir\n",
    "    if cv2.waitKey(1) == 27:\n",
    "        break\n",
    "\n",
    "vid.release()\n",
    "cv2.destroyAllWindows()\n"
   ]
  },
  {
   "cell_type": "markdown",
   "metadata": {},
   "source": [
    "TAREA:\n",
    "Pintar círculos en las posiciones del píxel más claro y oscuro de la imagen \n",
    "¿Si quisieras hacerlo sobre la zona 8x8 más clara/oscura?"
   ]
  },
  {
   "cell_type": "code",
   "execution_count": 6,
   "metadata": {},
   "outputs": [],
   "source": [
    "\n",
    "vid = cv2.VideoCapture(0, cv2.CAP_DSHOW)\n",
    "\n",
    "while True:\n",
    "    ret, frame = vid.read()\n",
    "    if not ret:\n",
    "        break\n",
    "\n",
    "    gray = cv2.cvtColor(frame, cv2.COLOR_BGR2GRAY)\n",
    "\n",
    "    # Píxel más oscuro\n",
    "    min_loc = np.unravel_index(np.argmin(gray), gray.shape)\n",
    "    # Píxel más claro\n",
    "    max_loc = np.unravel_index(np.argmax(gray), gray.shape)\n",
    "\n",
    "    # Dibujar círculos\n",
    "    cv2.circle(frame, (min_loc[1], min_loc[0]), 5, (0,0,255), 2)   # rojo\n",
    "    cv2.circle(frame, (max_loc[1], max_loc[0]), 5, (0,255,0), 2)   # verde\n",
    "\n",
    "    cv2.imshow('dark_light_pixel', frame)\n",
    "\n",
    "    if cv2.waitKey(1) == 27:  # ESC para salir\n",
    "        break\n",
    "\n",
    "vid.release()\n",
    "cv2.destroyAllWindows()"
   ]
  },
  {
   "cell_type": "code",
   "execution_count": 14,
   "metadata": {},
   "outputs": [],
   "source": [
    "vid = cv2.VideoCapture(0, cv2.CAP_DSHOW)\n",
    "block_size = 8\n",
    "\n",
    "while True:\n",
    "    ret, frame = vid.read()\n",
    "    if not ret:\n",
    "        break\n",
    "\n",
    "    gray = cv2.cvtColor(frame, cv2.COLOR_BGR2GRAY)\n",
    "    h, w = gray.shape\n",
    "\n",
    "    min_avg = 256\n",
    "    max_avg = -1\n",
    "    min_loc = (0,0)\n",
    "    max_loc = (0,0)\n",
    "\n",
    "    # Recorremos a saltos del tamaño del bloque\n",
    "    for y in range(0, h - block_size + 1, block_size):\n",
    "        for x in range(0, w - block_size + 1, block_size):\n",
    "            block = gray[y:y+block_size, x:x+block_size]\n",
    "            avg = np.mean(block)\n",
    "            if avg < min_avg:\n",
    "                min_avg = avg\n",
    "                min_loc = (x, y)\n",
    "            if avg > max_avg:\n",
    "                max_avg = avg\n",
    "                max_loc = (x, y)\n",
    "\n",
    "    # Dibujar círculos en el centro de cada bloque\n",
    "    cv2.circle(frame, (min_loc[0]+block_size//2, min_loc[1]+block_size//2), 6, (0,0,255), 2)\n",
    "    cv2.circle(frame, (max_loc[0]+block_size//2, max_loc[1]+block_size//2), 6, (0,255,0), 2)\n",
    "\n",
    "    cv2.imshow('Cam', frame)\n",
    "\n",
    "    if cv2.waitKey(1) == 27:\n",
    "        break\n",
    "\n",
    "vid.release()\n",
    "cv2.destroyAllWindows()\n",
    "\n"
   ]
  },
  {
   "cell_type": "markdown",
   "metadata": {},
   "source": [
    "TAREA: Llevar a cabo una propuesta propia de pop art"
   ]
  },
  {
   "cell_type": "code",
   "execution_count": 9,
   "metadata": {},
   "outputs": [],
   "source": [
    "\n",
    "# Abrir cámara\n",
    "vid = cv2.VideoCapture(0, cv2.CAP_DSHOW)\n",
    "w, h = 320, 240\n",
    "vid.set(cv2.CAP_PROP_FRAME_WIDTH, w)\n",
    "vid.set(cv2.CAP_PROP_FRAME_HEIGHT, h)\n",
    "\n",
    "\n",
    "def overlay_image_alpha(img, img_overlay, pos):\n",
    "    \"\"\"Superpone img_overlay sobre img usando su canal alfa\"\"\"\n",
    "    x, y = pos\n",
    "    b, g, r, a = cv2.split(img_overlay)\n",
    "    overlay_color = cv2.merge((b, g, r))\n",
    "    mask = a / 255.0\n",
    "    h, w = overlay_color.shape[:2]\n",
    "\n",
    "    img[y:y+h, x:x+w] = (1.0 - mask[:, :, None]) * img[y:y+h, x:x+w] + mask[:, :, None] * overlay_color\n",
    "\n",
    "def cartoonify(img):\n",
    "    gray = cv2.cvtColor(img, cv2.COLOR_BGR2GRAY)\n",
    "    gray = cv2.medianBlur(gray, 7)\n",
    "    edges = cv2.adaptiveThreshold(gray, 255, cv2.ADAPTIVE_THRESH_MEAN_C,\n",
    "                                  cv2.THRESH_BINARY, 9, 9)\n",
    "    color = cv2.bilateralFilter(img, 9, 300, 300)\n",
    "    cartoon = cv2.bitwise_and(color, color, mask=edges)\n",
    "    return cartoon\n",
    "\n",
    "def sketch(img):\n",
    "    gray = cv2.cvtColor(img, cv2.COLOR_BGR2GRAY)\n",
    "    inv = 255 - gray\n",
    "    blur = cv2.GaussianBlur(inv, (21,21), 0)\n",
    "    sketch_img = cv2.divide(gray, 255-blur, scale=256)\n",
    "    return cv2.cvtColor(sketch_img, cv2.COLOR_GRAY2BGR)\n",
    "\n",
    "def pixel_art(img, scale=0.1):\n",
    "    h_img, w_img = img.shape[:2]\n",
    "    small = cv2.resize(img, (int(w_img*scale), int(h_img*scale)), interpolation=cv2.INTER_NEAREST)\n",
    "    return cv2.resize(small, (w_img, h_img), interpolation=cv2.INTER_NEAREST)\n",
    "\n",
    "while True:\n",
    "    ret, frame = vid.read()\n",
    "    if not ret:\n",
    "        break\n",
    "\n",
    "    collage = np.zeros((h*2, w*3, 3), dtype=np.uint8)\n",
    "\n",
    "    # Sub-imágenes 2x3\n",
    "    tl = collage[0:h, 0:w]       # Normal\n",
    "    tm = collage[0:h, w:2*w]     # Halloween\n",
    "    tr = collage[0:h, 2*w:3*w]   # Sketch\n",
    "    bl = collage[h:2*h, 0:w]     # Cartoon\n",
    "    bm = collage[h:2*h, w:2*w]   # Pixel Art\n",
    "    br = collage[h:2*h, 2*w:3*w] # Negativo\n",
    "\n",
    "    # Normal\n",
    "    tl[:] = frame\n",
    "\n",
    "    # Halloween: filtro naranja + viñeta\n",
    "    halloween = frame.copy()\n",
    "    halloween[:,:,0] = halloween[:,:,0]//2\n",
    "    halloween[:,:,1] = halloween[:,:,1]//2\n",
    "    halloween[:,:,2] = np.minimum(halloween[:,:,2]+50, 255)\n",
    "    # Viñeta circular\n",
    "    y, x = np.ogrid[:h, :w]\n",
    "    center_x, center_y = w//2, h//2\n",
    "    radius = min(w, h)//2\n",
    "    mask = ((x - center_x)**2 + (y - center_y)**2)**0.5\n",
    "    mask = mask / radius\n",
    "    mask = np.clip(mask, 0, 1)\n",
    "    halloween = (halloween * (1 - mask[:,:,None])).astype(np.uint8)\n",
    "\n",
    "    tm[:] = halloween\n",
    "\n",
    "    # Sketch\n",
    "    tr[:] = sketch(frame)\n",
    "\n",
    "    # Cartoon\n",
    "    bl[:] = cartoonify(frame)\n",
    "\n",
    "    # Pixel Art\n",
    "    bm[:] = pixel_art(frame)\n",
    "\n",
    "    # Negativo\n",
    "    br[:] = 255 - frame\n",
    "\n",
    "    cv2.imshow('Collage 2x3 Temático', collage)\n",
    "    if cv2.waitKey(1) == 27:\n",
    "        break\n",
    "\n",
    "vid.release()\n",
    "cv2.destroyAllWindows()\n"
   ]
  }
 ],
 "metadata": {
  "kernelspec": {
   "display_name": "VC_P1",
   "language": "python",
   "name": "python3"
  },
  "language_info": {
   "codemirror_mode": {
    "name": "ipython",
    "version": 3
   },
   "file_extension": ".py",
   "mimetype": "text/x-python",
   "name": "python",
   "nbconvert_exporter": "python",
   "pygments_lexer": "ipython3",
   "version": "3.11.5"
  },
  "orig_nbformat": 4
 },
 "nbformat": 4,
 "nbformat_minor": 2
}
